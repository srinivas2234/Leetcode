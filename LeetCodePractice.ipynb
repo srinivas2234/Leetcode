{
  "nbformat": 4,
  "nbformat_minor": 0,
  "metadata": {
    "colab": {
      "provenance": [],
      "authorship_tag": "ABX9TyMcq4FSHbqK4b6Rfwb2N4th",
      "include_colab_link": true
    },
    "kernelspec": {
      "name": "python3",
      "display_name": "Python 3"
    },
    "language_info": {
      "name": "python"
    }
  },
  "cells": [
    {
      "cell_type": "markdown",
      "metadata": {
        "id": "view-in-github",
        "colab_type": "text"
      },
      "source": [
        "<a href=\"https://colab.research.google.com/github/srinivas2234/Leetcode/blob/main/LeetCodePractice.ipynb\" target=\"_parent\"><img src=\"https://colab.research.google.com/assets/colab-badge.svg\" alt=\"Open In Colab\"/></a>"
      ]
    },
    {
      "cell_type": "markdown",
      "source": [
        "# 20. Valid Parentheses"
      ],
      "metadata": {
        "id": "LEByJ1e3psQo"
      }
    },
    {
      "cell_type": "code",
      "source": [
        "class Solution:\n",
        "    def isValid(self, s):\n",
        "      stack=[]\n",
        "      flag=0\n",
        "      dic={\"[\":\"]\",\"{\":\"}\",\"(\":\")\"}\n",
        "      \n",
        "      for i in s:\n",
        "        \n",
        "        #for key, value in dic.items():\n",
        "         if i in dic.keys():\n",
        "           stack.append(i)\n",
        "         elif i in dic.values():\n",
        "           if len(stack)==0:\n",
        "             flag=1\n",
        "             break\n",
        "           if len(stack) != 0:\n",
        "             out=stack.pop()  \n",
        "           print(i,dic[out])         \n",
        "           if i != dic[out]:\n",
        "               flag=1\n",
        "               break         \n",
        "\n",
        "      if flag==0 and len(stack) == 0:\n",
        "        print(\"Valid Parentheses\")\n",
        "      elif flag==1 or len(stack) != 0:\n",
        "        print(\"In Valid Parentheses\")\n",
        "      \n",
        "      \n",
        "\n",
        "\n",
        "s=\"\"\n",
        "obj=Solution()\n",
        "result=obj.isValid(s)"
      ],
      "metadata": {
        "colab": {
          "base_uri": "https://localhost:8080/"
        },
        "id": "0Aqas5QNOEI-",
        "outputId": "383094a8-1a4b-4e37-d156-24e8e1815a0f"
      },
      "execution_count": null,
      "outputs": [
        {
          "output_type": "stream",
          "name": "stdout",
          "text": [
            "Valid Parentheses\n"
          ]
        }
      ]
    },
    {
      "cell_type": "code",
      "execution_count": null,
      "metadata": {
        "colab": {
          "base_uri": "https://localhost:8080/"
        },
        "id": "ZwnZ7TusPy0F",
        "outputId": "b7ca03db-3cb4-463d-841d-8d5baed9011c"
      },
      "outputs": [
        {
          "output_type": "stream",
          "name": "stdout",
          "text": [
            "f == f\n",
            "l == l\n",
            "f == f\n",
            "l == l\n",
            "f == f\n",
            "l == l\n",
            "o == o\n",
            "w == w\n",
            "e == e\n",
            "\n",
            "['flfl', 'flowe', 'flowe', '']\n"
          ]
        }
      ],
      "source": [
        "import itertools \n",
        "class Solution:\n",
        "    def longestCommonPrefix(self, strs):      \n",
        "        strs.sort()\n",
        "        result=\"\"\n",
        "        final=[]\n",
        "        substrlen=0        \n",
        "        for Fword in range(0,len(strs)):\n",
        "          result=\"\"          \n",
        "          for Sword in range(Fword+1,len(strs)):\n",
        "            #result=\"\"\n",
        "            #print(Fword,Sword)\n",
        "            for char in range(0,min(len(strs[Fword]),len(strs[Sword]))):\n",
        "              First=strs[Fword]\n",
        "              Second=strs[Sword]\n",
        "              #print(First,Second)\n",
        "              if First[char]==Second[char]:\n",
        "                print(First[char],\"==\",Second[char])\n",
        "                result=result+First[char]\n",
        "                continue\n",
        "              final.append(result)\n",
        "              break\n",
        "              # else:                \n",
        "              #   break\n",
        "          \n",
        "              # for Schar in Sword:\n",
        "              #   if Fchar == Schar:\n",
        "\n",
        "              #  print(Fchar,Schar)\n",
        "        print(result)\n",
        "        print(final)\n",
        "\n",
        "\n",
        "\n",
        "obj=Solution()\n",
        "obj.longestCommonPrefix([\"fl\",\"flowes\",\"sertflow\",\"flowersty\"])"
      ]
    },
    {
      "cell_type": "markdown",
      "source": [
        "# 21. Merge Two Sorted Lists"
      ],
      "metadata": {
        "id": "DrzO6aCWp215"
      }
    },
    {
      "cell_type": "code",
      "source": [
        "# Definition for singly-linked list.\n",
        "class ListNode:\n",
        "    def __init__(self, val=0, next=None):\n",
        "        self.val = val\n",
        "        self.next = next\n",
        "class Solution:\n",
        "    def __init__(self, val=0, next=None):\n",
        "      self.head=None\n",
        "    def insertAtBeginning(self, val=0):\n",
        "      newnode=ListNode()\n",
        "      newnode.val=val\n",
        "      newnode.next=self.head\n",
        "      self.head=newnode\n",
        "    def printList(self):      \n",
        "      while self.head != None:\n",
        "        print(self.head.val)\n",
        "        self.head=self.head.next\n",
        "\n",
        "    def insertAtEnd(self,val):\n",
        "      newnode=ListNode()\n",
        "      newnode.val=val\n",
        "      newnode.next=None\n",
        "      if self.head == None:\n",
        "        self.head = newnode\n",
        "        return       \n",
        "      i=self.head\n",
        "           \n",
        "      while i.next != None:\n",
        "        i=i.next \n",
        "      i.next=newnode\n",
        "      #print(i.val)          \n",
        "      return self.head    \n",
        "\n",
        "\n",
        "    def mergeTwoLists(self, list1, list2):\n",
        "      result=[]\n",
        "    \n",
        "      \n",
        "\n",
        "\n",
        "\n",
        "\n",
        "\n",
        "      \n",
        "\n",
        "\n",
        "\n",
        "\n",
        "\n",
        "ll1=ListNode()\n",
        "ll2=ListNode()\n",
        "obj=Solution()\n",
        "list1 = [1,2,4]\n",
        "list2 = [1,3,4]\n",
        "# obj.insertAtBeginning(9)   \n",
        "# obj.insertAtBeginning(7)   \n",
        "# obj.insertAtBeginning(4) \n",
        "# obj.insertAtBeginning(5) \n",
        "#obj.printList()    \n",
        "head1=obj.insertAtEnd(1)\n",
        "head1=obj.insertAtEnd(2)\n",
        "head1=obj.insertAtEnd(4)\n",
        "head2=obj.insertAtEnd(8)\n",
        "head2=obj.insertAtEnd(3)\n",
        "head2=obj.insertAtEnd(4)\n",
        "head2=obj.insertAtEnd(5)\n",
        "#obj.printList()\n",
        "while head1.next:\n",
        "  print(head1.val)\n",
        "  head1=head1.next\n",
        "#print(head1.val,head2.val)"
      ],
      "metadata": {
        "colab": {
          "base_uri": "https://localhost:8080/"
        },
        "id": "gnD_1VRbp2Zb",
        "outputId": "1a0853c5-99be-4c7d-d41e-707d58a633cc"
      },
      "execution_count": null,
      "outputs": [
        {
          "output_type": "stream",
          "name": "stdout",
          "text": [
            "1\n",
            "2\n",
            "4\n",
            "8\n",
            "3\n",
            "4\n"
          ]
        }
      ]
    },
    {
      "cell_type": "code",
      "source": [
        "\n",
        "# Linked list operations in Python\n",
        "\n",
        "\n",
        "# Create a node\n",
        "class Node:\n",
        "    def __init__(self, data):\n",
        "        self.data = data\n",
        "        self.next = None\n",
        "\n",
        "\n",
        "class LinkedList:\n",
        "\n",
        "    def __init__(self):\n",
        "        self.head = None\n",
        "\n",
        "    # Insert at the beginning\n",
        "    def insertAtBeginning(self, new_data):\n",
        "        new_node = Node(new_data)\n",
        "\n",
        "        new_node.next = self.head\n",
        "        self.head = new_node\n",
        "\n",
        "    # Insert after a node\n",
        "    def insertAfter(self, prev_node, new_data):\n",
        "\n",
        "        if prev_node is None:\n",
        "            print(\"The given previous node must inLinkedList.\")\n",
        "            return\n",
        "\n",
        "        new_node = Node(new_data)\n",
        "        new_node.next = prev_node.next\n",
        "        prev_node.next = new_node\n",
        "\n",
        "    # Insert at the end\n",
        "    def insertAtEnd(self, new_data):\n",
        "        new_node = Node(new_data)\n",
        "\n",
        "        if self.head is None:\n",
        "            self.head = new_node\n",
        "            return\n",
        "\n",
        "        last = self.head\n",
        "        while (last.next):\n",
        "            last = last.next\n",
        "\n",
        "        last.next = new_node\n",
        "\n",
        "    # Deleting a node\n",
        "    def deleteNode(self, position):\n",
        "\n",
        "        if self.head is None:\n",
        "            return\n",
        "\n",
        "        temp = self.head\n",
        "\n",
        "        if position == 0:\n",
        "            self.head = temp.next\n",
        "            temp = None\n",
        "            return\n",
        "\n",
        "        # Find the key to be deleted\n",
        "        for i in range(position - 1):\n",
        "            temp = temp.next\n",
        "            if temp is None:\n",
        "                break\n",
        "\n",
        "        # If the key is not present\n",
        "        if temp is None:\n",
        "            return\n",
        "\n",
        "        if temp.next is None:\n",
        "            return\n",
        "\n",
        "        next = temp.next.next\n",
        "\n",
        "        temp.next = None\n",
        "\n",
        "        temp.next = next\n",
        "\n",
        "    # Search an element\n",
        "    def search(self, key):\n",
        "\n",
        "        current = self.head\n",
        "\n",
        "        while current is not None:\n",
        "            if current.data == key:\n",
        "                return True\n",
        "\n",
        "            current = current.next\n",
        "\n",
        "        return False\n",
        "\n",
        "    # Sort the linked list\n",
        "    def sortLinkedList(self, head):\n",
        "        current = head\n",
        "        index = Node(None)\n",
        "\n",
        "        if head is None:\n",
        "            return\n",
        "        else:\n",
        "            while current is not None:\n",
        "                # index points to the node next to current\n",
        "                index = current.next\n",
        "\n",
        "                while index is not None:\n",
        "                    if current.data > index.data:\n",
        "                        current.data, index.data = index.data, current.data\n",
        "\n",
        "                    index = index.next\n",
        "                current = current.next\n",
        "\n",
        "    # Print the linked list\n",
        "    def printList(self):\n",
        "        temp = self.head\n",
        "        while (temp):\n",
        "            print(str(temp.data) + \" \", end=\"\")\n",
        "            temp = temp.next\n",
        "\n",
        "\n",
        "if __name__ == '__main__':\n",
        "\n",
        "    llist = LinkedList()\n",
        "    llist.insertAtEnd(1)\n",
        "    llist.insertAtBeginning(2)\n",
        "    llist.insertAtBeginning(3)\n",
        "    llist.insertAtEnd(4)\n",
        "    llist.insertAfter(llist.head.next, 5)\n",
        "\n",
        "    print('linked list:')\n",
        "    llist.printList()\n",
        "\n",
        "    print(\"\\nAfter deleting an element:\")\n",
        "    llist.deleteNode(3)\n",
        "    llist.printList()\n",
        "\n",
        "    print()\n",
        "    item_to_find = 3\n",
        "    if llist.search(item_to_find):\n",
        "        print(str(item_to_find) + \" is found\")\n",
        "    else:\n",
        "        print(str(item_to_find) + \" is not found\")\n",
        "\n",
        "    llist.sortLinkedList(llist.head)\n",
        "    print(\"Sorted List: \")\n",
        "    llist.printList()"
      ],
      "metadata": {
        "id": "fLUvK6xn0Zba"
      },
      "execution_count": null,
      "outputs": []
    },
    {
      "cell_type": "code",
      "source": [
        "# Definition for singly-linked list.\n",
        "class ListNode:\n",
        "    def __init__(self, val=0, next=None):\n",
        "        self.val = val\n",
        "        self.next = next\n",
        "class Solution:\n",
        "    def __init__(self, val=0, next=None):\n",
        "        newHead = dummyHead = ListNode()\n",
        "        while list1 and list2:\n",
        "            if list1.val < list2.val:\n",
        "                dummyHead.next = list1\n",
        "                list1 = list1.next\n",
        "            else:\n",
        "                dummyHead.next = list2\n",
        "                list2 = list2.next\n",
        "            dummyHead = dummyHead.next\n",
        "        \n",
        "        if list1:\n",
        "            dummyHead.next = list1\n",
        "        if list2:\n",
        "            dummyHead.next = list2\n",
        "        return newHead.next"
      ],
      "metadata": {
        "id": "qrsRGlOh7XV1"
      },
      "execution_count": null,
      "outputs": []
    },
    {
      "cell_type": "code",
      "source": [],
      "metadata": {
        "id": "yw422mcX7Yyr"
      },
      "execution_count": null,
      "outputs": []
    },
    {
      "cell_type": "markdown",
      "source": [
        "Remove Duplicates from Sorted Array"
      ],
      "metadata": {
        "id": "BeYx0bv87gSC"
      }
    },
    {
      "cell_type": "code",
      "source": [
        "class Solution:\n",
        "    def removeDuplicates(self, A):\n",
        "      print(AssertionError)\n",
        "      i=0\n",
        "      j=i+1\n",
        "      while i < len(A):\n",
        "        #j=i+1\n",
        "        while j < len(A):\n",
        "          if A[i] == A[j]:\n",
        "            A[j]='-'\n",
        "            j=j+1\n",
        "            continue\n",
        "          else:\n",
        "            if j-i==1:\n",
        "              i=i+1\n",
        "              j=j+1\n",
        "            else:\n",
        "              A[i+1]=A[j]         \n",
        "              A[j]='-'\n",
        "              i=i+1            \n",
        "              j=j+1\n",
        "\n",
        "        A[i]='-'\n",
        "        i=i+1\n",
        "        \n",
        "        \n",
        "      print(A)  \n",
        "\n",
        "\n",
        "\n",
        "\n",
        "\n",
        "\n",
        "\n",
        "lst=[1,1,2]\n",
        "obj=Solution()\n",
        "obj.removeDuplicates(lst)\n"
      ],
      "metadata": {
        "colab": {
          "base_uri": "https://localhost:8080/"
        },
        "id": "fP-j9NOy7aE3",
        "outputId": "e7dba0f1-b2ab-495e-cae2-0044ea7b72fe"
      },
      "execution_count": 68,
      "outputs": [
        {
          "output_type": "stream",
          "name": "stdout",
          "text": [
            "<class 'AssertionError'>\n",
            "[1, '-', '-']\n"
          ]
        }
      ]
    }
  ]
}