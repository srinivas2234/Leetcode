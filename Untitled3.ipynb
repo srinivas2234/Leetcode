{
  "nbformat": 4,
  "nbformat_minor": 0,
  "metadata": {
    "colab": {
      "provenance": [],
      "authorship_tag": "ABX9TyPTK0U9taZAygQJmZDkheZr",
      "include_colab_link": true
    },
    "kernelspec": {
      "name": "python3",
      "display_name": "Python 3"
    },
    "language_info": {
      "name": "python"
    }
  },
  "cells": [
    {
      "cell_type": "markdown",
      "metadata": {
        "id": "view-in-github",
        "colab_type": "text"
      },
      "source": [
        "<a href=\"https://colab.research.google.com/github/srinivas2234/Leetcode/blob/main/Untitled3.ipynb\" target=\"_parent\"><img src=\"https://colab.research.google.com/assets/colab-badge.svg\" alt=\"Open In Colab\"/></a>"
      ]
    },
    {
      "cell_type": "code",
      "execution_count": null,
      "metadata": {
        "colab": {
          "base_uri": "https://localhost:8080/"
        },
        "id": "Kbezt0TBKEMQ",
        "outputId": "50fa1511-de26-4b19-e62d-a135219f5e0d"
      },
      "outputs": [
        {
          "output_type": "stream",
          "name": "stdout",
          "text": [
            "2\n",
            "1\n",
            "0\n",
            "9\n",
            "[9, 0, 0]\n"
          ]
        }
      ],
      "source": [
        "class Solution:\n",
        "    def plusOne(self, digits):\n",
        "      c=0\n",
        "      s=0\n",
        "      new=[]\n",
        "      sum=0\n",
        "      addd=1\n",
        "      for i, e in reversed(list(enumerate(digits))):\n",
        "        print(i)       \n",
        "        if digits[i] != 9:\n",
        "          digits[i]=digits[i]+1\n",
        "          print(digits[i])\n",
        "          c=0\n",
        "          #new=digits\n",
        "          break\n",
        "        else:\n",
        "          #sum=e+addd+c\n",
        "          addd=0\n",
        "          c=1\n",
        "          #s=0\n",
        "          digits[i]=0\n",
        "          #new.insert(i,s)\n",
        "          #print(i, s)\n",
        "      if c == 1:\n",
        "        digits.insert(0,1)\n",
        "      print(digits)\n",
        "             \n",
        "\n",
        "\n",
        "\n",
        "\n",
        "\n",
        "\n",
        "      #   if digits[i] == 9:\n",
        "\n",
        "\n",
        "\n",
        "\n",
        "      # if digits[-1]==9:\n",
        "      #   del digits[-1]\n",
        "      #   l=[1,0]\n",
        "      #   digits=digits+l\n",
        "      # else:\n",
        "      #   digits[-1]=digits[-1]+1\n",
        "\n",
        "      \n",
        "\n",
        "\n",
        "\n",
        "lst=[8,9,9]\n",
        "obj=Solution()\n",
        "obj.plusOne(lst)\n"
      ]
    },
    {
      "cell_type": "code",
      "source": [
        "class Solution:\n",
        "    def merge(self, nums1, m, nums2, n):\n",
        "        \"\"\"\n",
        "        Do not return anything, modify nums1 in-place instead.\n",
        "        \"\"\"        \n",
        "        k=m+n-1        \n",
        "        A=[]\n",
        "        while m > 0 and n > 0:\n",
        "          #print(i,j)\n",
        "          if nums1[m - 1] > nums2[n - 1]:\n",
        "            nums1[k]=nums1[m - 1]\n",
        "            m=m-1                     \n",
        "          else:\n",
        "            nums1[k]=nums2[n - 1]\n",
        "            n=n-1\n",
        "          k=k-1\n",
        "          \n",
        "        print(nums1)\n",
        "        while n >=0:\n",
        "          nums1[k]=nums2[n-1]\n",
        "          n=n-1\n",
        "          k=k-1  \n",
        "\n",
        "\n",
        "        # while i >= 0: and j >= 0:\n",
        "        #   print(i,j)\n",
        "        #   i-=1\n",
        "        #   j-=1\n",
        "        # i,j=m-1,n-1\n",
        "        # k=m+n-1\n",
        "        # while i >= 0 and j >= 0:\n",
        "        #     if nums2[j] <= nums1[i]:\n",
        "        #       nums1.insert(k,nums1[i])\n",
        "        #       i=i-1\n",
        "        #       k=k-1              \n",
        "        #     elif nums2[j] >= nums1[i]:\n",
        "        #       nums1.insert(k,nums2[j])\n",
        "        #       j=j-1\n",
        "        #       k=k-1\n",
        "            \n",
        "            #print(nums1)\n",
        "\n",
        "nums1 = [7,8,10,0,0,0]\n",
        "m = 3\n",
        "nums2 = [5,15,76]\n",
        "n = 3\n",
        "obj=Solution()\n",
        "obj.merge(nums1,m,nums2,n)\n"
      ],
      "metadata": {
        "colab": {
          "base_uri": "https://localhost:8080/"
        },
        "id": "T8jCG6vZmHTG",
        "outputId": "ad6eec00-ae05-48a4-e81b-c713497b6491"
      },
      "execution_count": 56,
      "outputs": [
        {
          "output_type": "stream",
          "name": "stdout",
          "text": [
            "[7, 7, 8, 10, 15, 76]\n"
          ]
        }
      ]
    }
  ]
}