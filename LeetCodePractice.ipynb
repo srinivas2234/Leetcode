{
  "nbformat": 4,
  "nbformat_minor": 0,
  "metadata": {
    "colab": {
      "provenance": [],
      "authorship_tag": "ABX9TyPoJo1+3p1q3wGWZ7CC7dm2",
      "include_colab_link": true
    },
    "kernelspec": {
      "name": "python3",
      "display_name": "Python 3"
    },
    "language_info": {
      "name": "python"
    }
  },
  "cells": [
    {
      "cell_type": "markdown",
      "metadata": {
        "id": "view-in-github",
        "colab_type": "text"
      },
      "source": [
        "<a href=\"https://colab.research.google.com/github/srinivas2234/Leetcode/blob/main/LeetCodePractice.ipynb\" target=\"_parent\"><img src=\"https://colab.research.google.com/assets/colab-badge.svg\" alt=\"Open In Colab\"/></a>"
      ]
    },
    {
      "cell_type": "code",
      "execution_count": 56,
      "metadata": {
        "colab": {
          "base_uri": "https://localhost:8080/"
        },
        "id": "ZwnZ7TusPy0F",
        "outputId": "b7ca03db-3cb4-463d-841d-8d5baed9011c"
      },
      "outputs": [
        {
          "output_type": "stream",
          "name": "stdout",
          "text": [
            "f == f\n",
            "l == l\n",
            "f == f\n",
            "l == l\n",
            "f == f\n",
            "l == l\n",
            "o == o\n",
            "w == w\n",
            "e == e\n",
            "\n",
            "['flfl', 'flowe', 'flowe', '']\n"
          ]
        }
      ],
      "source": [
        "import itertools \n",
        "class Solution:\n",
        "    def longestCommonPrefix(self, strs):      \n",
        "        strs.sort()\n",
        "        result=\"\"\n",
        "        final=[]\n",
        "        substrlen=0        \n",
        "        for Fword in range(0,len(strs)):\n",
        "          result=\"\"          \n",
        "          for Sword in range(Fword+1,len(strs)):\n",
        "            #result=\"\"\n",
        "            #print(Fword,Sword)\n",
        "            for char in range(0,min(len(strs[Fword]),len(strs[Sword]))):\n",
        "              First=strs[Fword]\n",
        "              Second=strs[Sword]\n",
        "              #print(First,Second)\n",
        "              if First[char]==Second[char]:\n",
        "                print(First[char],\"==\",Second[char])\n",
        "                result=result+First[char]\n",
        "                continue\n",
        "              final.append(result)\n",
        "              break\n",
        "              # else:                \n",
        "              #   break\n",
        "          \n",
        "              # for Schar in Sword:\n",
        "              #   if Fchar == Schar:\n",
        "\n",
        "              #  print(Fchar,Schar)\n",
        "        print(result)\n",
        "        print(final)\n",
        "\n",
        "\n",
        "\n",
        "obj=Solution()\n",
        "obj.longestCommonPrefix([\"fl\",\"flowes\",\"sertflow\",\"flowersty\"])"
      ]
    }
  ]
}