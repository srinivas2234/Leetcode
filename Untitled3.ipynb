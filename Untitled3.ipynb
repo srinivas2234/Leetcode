{
  "nbformat": 4,
  "nbformat_minor": 0,
  "metadata": {
    "colab": {
      "provenance": [],
      "authorship_tag": "ABX9TyOtrlrDtw90wyo9cmMSH3TU",
      "include_colab_link": true
    },
    "kernelspec": {
      "name": "python3",
      "display_name": "Python 3"
    },
    "language_info": {
      "name": "python"
    }
  },
  "cells": [
    {
      "cell_type": "markdown",
      "metadata": {
        "id": "view-in-github",
        "colab_type": "text"
      },
      "source": [
        "<a href=\"https://colab.research.google.com/github/srinivas2234/Leetcode/blob/main/Untitled3.ipynb\" target=\"_parent\"><img src=\"https://colab.research.google.com/assets/colab-badge.svg\" alt=\"Open In Colab\"/></a>"
      ]
    },
    {
      "cell_type": "code",
      "execution_count": 46,
      "metadata": {
        "colab": {
          "base_uri": "https://localhost:8080/"
        },
        "id": "Kbezt0TBKEMQ",
        "outputId": "50fa1511-de26-4b19-e62d-a135219f5e0d"
      },
      "outputs": [
        {
          "output_type": "stream",
          "name": "stdout",
          "text": [
            "2\n",
            "1\n",
            "0\n",
            "9\n",
            "[9, 0, 0]\n"
          ]
        }
      ],
      "source": [
        "class Solution:\n",
        "    def plusOne(self, digits):\n",
        "      c=0\n",
        "      s=0\n",
        "      new=[]\n",
        "      sum=0\n",
        "      addd=1\n",
        "      for i, e in reversed(list(enumerate(digits))):\n",
        "        print(i)       \n",
        "        if digits[i] != 9:\n",
        "          digits[i]=digits[i]+1\n",
        "          print(digits[i])\n",
        "          c=0\n",
        "          #new=digits\n",
        "          break\n",
        "        else:\n",
        "          #sum=e+addd+c\n",
        "          addd=0\n",
        "          c=1\n",
        "          #s=0\n",
        "          digits[i]=0\n",
        "          #new.insert(i,s)\n",
        "          #print(i, s)\n",
        "      if c == 1:\n",
        "        digits.insert(0,1)\n",
        "      print(digits)\n",
        "             \n",
        "\n",
        "\n",
        "\n",
        "\n",
        "\n",
        "\n",
        "      #   if digits[i] == 9:\n",
        "\n",
        "\n",
        "\n",
        "\n",
        "      # if digits[-1]==9:\n",
        "      #   del digits[-1]\n",
        "      #   l=[1,0]\n",
        "      #   digits=digits+l\n",
        "      # else:\n",
        "      #   digits[-1]=digits[-1]+1\n",
        "\n",
        "      \n",
        "\n",
        "\n",
        "\n",
        "lst=[8,9,9]\n",
        "obj=Solution()\n",
        "obj.plusOne(lst)\n"
      ]
    }
  ]
}